{
  "nbformat": 4,
  "nbformat_minor": 0,
  "metadata": {
    "colab": {
      "provenance": []
    },
    "kernelspec": {
      "name": "python3",
      "display_name": "Python 3"
    },
    "language_info": {
      "name": "python"
    }
  },
  "cells": [
    {
      "cell_type": "markdown",
      "source": [
        "1. What are data structures, and why are they important?\n",
        "Data structures are organized ways to store, manage, and process data efficiently in a computer so that operations such as access, update, and deletion can be performed effectively. Common data structures include arrays, lists, tuples, dictionaries, sets, stacks, queues, and trees.\n",
        "\n",
        "Importance:\n",
        "\n",
        "They help in efficient data management (e.g., searching and sorting).\n",
        "Enable the design of optimized algorithms.\n",
        "Allow scalability by handling large datasets effectively.\n",
        "Improve code clarity and maintainability.\n"
      ],
      "metadata": {
        "id": "kZFAtWCU1Pj9"
      }
    },
    {
      "cell_type": "markdown",
      "source": [
        "2. Explain the difference between mutable and immutable data types with examples.\n",
        "Mutable Data Types:\n",
        "\n",
        "Their values can be changed after creation.\n",
        "Example: Lists, Dictionaries, Sets\n",
        "\n",
        "Immutable Data Types:\n",
        "\n",
        "Their values cannot be changed after creation.\n",
        "Example: Tuples, Strings, Integers"
      ],
      "metadata": {
        "id": "pN2Z95Dw1Tiz"
      }
    },
    {
      "cell_type": "markdown",
      "source": [
        "3. What are the main differences between lists and tuples in Python?\n"
      ],
      "metadata": {
        "id": "FBbyhooo1ucg"
      }
    },
    {
      "cell_type": "markdown",
      "source": [
        "4. Describe how dictionaries store data.\n",
        "Dictionaries in Python store data as key-value pairs. Each key is unique, and the value can be accessed or modified using the key. Internally, dictionaries use hash tables for efficient data retrieval."
      ],
      "metadata": {
        "id": "5kdhXA0q2MMI"
      }
    },
    {
      "cell_type": "markdown",
      "source": [
        "5. Why might you use a set instead of a list in Python?\n",
        "Sets are used instead of lists when:\n",
        "\n",
        "You need to store unique elements (no duplicates).\n",
        "Order does not matter.\n",
        "Fast membership testing is required (sets provide O(1) average complexity for in operations)."
      ],
      "metadata": {
        "id": "vrvU5hjY2hzt"
      }
    },
    {
      "cell_type": "markdown",
      "source": [
        "6. What is a string in Python, and how is it different from a list?\n",
        "A string in Python is a sequence of characters enclosed in quotes (' ' or \" \"). Strings are immutable, meaning their content cannot be changed after creation.\n",
        "\n",
        "Differences:\n",
        "\n",
        "Mutability:\n",
        "Strings: Immutable\n",
        "Lists: Mutable\n",
        "Data Type:\n",
        "Strings: Store characters only.\n",
        "Lists: Can store elements of any data type.\n",
        "Syntax:\n",
        "String: \"hello\"\n",
        "List: ['h', 'e', 'l', 'l', 'o']"
      ],
      "metadata": {
        "id": "aNThvsTb2mg6"
      }
    },
    {
      "cell_type": "markdown",
      "source": [
        "7. How do tuples ensure data integrity in Python?\n",
        "Tuples ensure data integrity because they are immutable. Once created, their values cannot be altered, ensuring that the data remains constant throughout the program. This makes them useful for:\n",
        "\n",
        "Storing configuration data.\n",
        "Using as keys in dictionaries (because they are hashable)."
      ],
      "metadata": {
        "id": "EYP4iNek2tS1"
      }
    },
    {
      "cell_type": "markdown",
      "source": [
        "8. What is a hash table, and how does it relate to dictionaries in Python?\n",
        "A hash table is a data structure that stores data in an array-like structure where each element is associated with a unique key. A hash function maps keys to specific indices in the array for fast access.\n",
        "\n",
        "In Python, dictionaries use hash tables under the hood:\n",
        "\n",
        "Keys: Are hashed to determine their position in memory.\n",
        "Values: Are stored at the location corresponding to the hashed key.\n",
        "This allows dictionaries to have:\n",
        "\n",
        "Fast lookups (average O(1) complexity).\n",
        "Efficient insertion and deletion."
      ],
      "metadata": {
        "id": "rcXoii8-2yLK"
      }
    },
    {
      "cell_type": "markdown",
      "source": [
        "9. Can lists contain different data types in Python?\n",
        "Yes, Python lists can contain elements of different data types. This flexibility makes lists versatile."
      ],
      "metadata": {
        "id": "u_-v5rSo3HeH"
      }
    },
    {
      "cell_type": "markdown",
      "source": [
        "10. Explain why strings are immutable in Python.\n",
        "Strings are immutable in Python for several reasons:\n",
        "\n",
        "Efficiency: Immutability allows Python to reuse string objects, reducing memory usage and improving performance.\n",
        "Thread-Safety: Immutable objects can be safely shared across threads.\n",
        "Hashing: Strings are hashable, allowing them to be used as keys in dictionaries or elements in sets."
      ],
      "metadata": {
        "id": "TvSf_Lt03L_P"
      }
    },
    {
      "cell_type": "markdown",
      "source": [
        "11. What advantages do dictionaries offer over lists for certain tasks?\n",
        "Dictionaries are preferable when:\n",
        "\n",
        "Key-based access: You need to quickly retrieve a value using a unique key.\n",
        "No fixed order: You don’t need the data to be in a specific sequence.\n",
        "Efficient lookups: Dictionaries provide O(1) average-time complexity for lookups, compared to O(n) for lists."
      ],
      "metadata": {
        "id": "2gc_hgqI3RzP"
      }
    },
    {
      "cell_type": "markdown",
      "source": [
        "12. Describe a scenario where using a tuple would be preferable over a list.\n",
        "Use a tuple when:\n",
        "\n",
        "Immutability is required: For data that shouldn’t change, such as configuration settings.\n",
        "Memory efficiency: Tuples use less memory than lists.\n",
        "As dictionary keys: Tuples are hashable, so they can be used as keys in dictionaries."
      ],
      "metadata": {
        "id": "dtGWJckw3VWs"
      }
    },
    {
      "cell_type": "markdown",
      "source": [
        "13. How do sets handle duplicate values in Python?\n",
        "Sets automatically eliminate duplicate values:\n",
        "\n",
        "If you attempt to add a duplicate, it is ignored.\n",
        "This makes sets ideal for scenarios where uniqueness is required."
      ],
      "metadata": {
        "id": "EXGp9-jh3YyH"
      }
    },
    {
      "cell_type": "markdown",
      "source": [
        "14. How does the “in” keyword work differently for lists and dictionaries?\n",
        "Lists:\n",
        "The in keyword checks if an element exists in the list.\n",
        "Time complexity: O(n) (linear search)."
      ],
      "metadata": {
        "id": "Sved4WoT3c80"
      }
    },
    {
      "cell_type": "markdown",
      "source": [
        "15. Can you modify the elements of a tuple? Explain why or why not.\n",
        "No, you cannot modify the elements of a tuple after it has been created because tuples are immutable in Python. This means their values cannot be changed, added, or removed once they are set.\n",
        "\n",
        "Reason:\n",
        "\n",
        "Immutability provides safety and guarantees that the data remains constant throughout its lifecycle.\n",
        "It also allows tuples to be used as keys in dictionaries, since they are hashable."
      ],
      "metadata": {
        "id": "QICDUUXl4GaC"
      }
    },
    {
      "cell_type": "markdown",
      "source": [
        "16. What is a nested dictionary, and give an example of its use case?\n",
        "A nested dictionary is a dictionary where some of the values are themselves dictionaries. This allows you to represent more complex, hierarchical data structures.\n",
        "\n",
        "Use Case:\n",
        "\n",
        "Storing structured data like information about a group of people, their addresses, and contact details."
      ],
      "metadata": {
        "id": "qvAM12uT4IA6"
      }
    },
    {
      "cell_type": "markdown",
      "source": [
        "17. Describe the time complexity of accessing elements in a dictionary.\n",
        "The time complexity of accessing elements in a dictionary is O(1) on average. This is because dictionaries are implemented using hash tables, where the hash of the key directly maps to the location of the value, allowing constant-time lookups.\n",
        "\n",
        "However, in the rare case of hash collisions, the time complexity could degrade to O(n), where n is the number of elements."
      ],
      "metadata": {
        "id": "AEdsOmrY4MX1"
      }
    },
    {
      "cell_type": "markdown",
      "source": [
        "18. In what situations are lists preferred over dictionaries?\n",
        "Lists are preferred over dictionaries when:\n",
        "\n",
        "Order matters: If you need to maintain the sequence of elements, lists are better as they are ordered.\n",
        "Duplicate values are needed: Lists allow duplicates, whereas dictionaries only allow unique keys.\n",
        "When accessing by index: Lists support indexing, so you can access elements by their position in the list.\n",
        "When the data is simple and does not require key-value pairs: Lists are better for storing data that doesn't need keys."
      ],
      "metadata": {
        "id": "loapbEMn4U2A"
      }
    },
    {
      "cell_type": "markdown",
      "source": [
        "19. Why are dictionaries considered unordered, and how does that affect data retrieval?\n",
        "Dictionaries are considered unordered because:\n",
        "\n",
        "They do not maintain the order of elements (prior to Python 3.7).\n",
        "In earlier versions of Python, dictionaries did not guarantee the order of key-value pairs.\n",
        "Starting from Python 3.7, dictionaries preserve the insertion order, but they are still considered unordered from a conceptual standpoint.\n",
        "Effect on Data Retrieval:\n",
        "\n",
        "Since dictionaries do not rely on order, retrieval is based on keys, not positions. The order of keys does not matter for accessing values."
      ],
      "metadata": {
        "id": "KTJjPND84ZSx"
      }
    },
    {
      "cell_type": "markdown",
      "source": [
        "20. Explain the difference between a list and a dictionary in terms of data retrieval.\n",
        "List:\n",
        "\n",
        "Accessed by index: You retrieve elements by their position in the list.\n",
        "Data Retrieval Time Complexity: O(1) for direct access (given the index), but O(n) for searching an element.\n",
        "\n",
        "Dictionary:\n",
        "\n",
        "Accessed by key: You retrieve values using a unique key.\n",
        "Data Retrieval Time Complexity: O(1) on average for lookups, since dictionaries use hash tables for fast key-based retrieval.\n"
      ],
      "metadata": {
        "id": "s_OYhYo84fxW"
      }
    },
    {
      "cell_type": "code",
      "execution_count": 1,
      "metadata": {
        "colab": {
          "base_uri": "https://localhost:8080/"
        },
        "id": "pW4GMwAEo6vv",
        "outputId": "9caf1f52-8cb0-4cc9-b906-95e934d9fb1a"
      },
      "outputs": [
        {
          "output_type": "stream",
          "name": "stdout",
          "text": [
            "nivedita\n"
          ]
        }
      ],
      "source": [
        "#Write a code to create a string with your name and print it?\n",
        "name=\"nivedita\"\n",
        "print(name)"
      ]
    },
    {
      "cell_type": "code",
      "source": [
        "#Write a code to find the length of the string \"Hello World\"?\n",
        "name=\"hello world\"\n",
        "print(len(name))"
      ],
      "metadata": {
        "colab": {
          "base_uri": "https://localhost:8080/"
        },
        "id": "13MWHmMlpUeB",
        "outputId": "0ba1719f-1d27-4e64-e69e-fe5f9195f06d"
      },
      "execution_count": 2,
      "outputs": [
        {
          "output_type": "stream",
          "name": "stdout",
          "text": [
            "11\n"
          ]
        }
      ]
    },
    {
      "cell_type": "code",
      "source": [
        "#Write a code to slice the first 3 characters from the string \"Python Programming\"?\n",
        "name=\"python programing\"\n",
        "print(name[0:3])"
      ],
      "metadata": {
        "colab": {
          "base_uri": "https://localhost:8080/"
        },
        "id": "95uNjDyFpknK",
        "outputId": "4b9ea9b2-6299-459e-c89e-60f93ab97960"
      },
      "execution_count": 6,
      "outputs": [
        {
          "output_type": "stream",
          "name": "stdout",
          "text": [
            "pyt\n"
          ]
        }
      ]
    },
    {
      "cell_type": "code",
      "source": [
        "#Write a code to convert the string \"hello\" to uppercase?\n",
        "name = \"hello\"\n",
        "upname=name.upper()\n",
        "\n",
        "print(upname)"
      ],
      "metadata": {
        "colab": {
          "base_uri": "https://localhost:8080/"
        },
        "id": "m3fm8A4HqWpH",
        "outputId": "74c74359-00fd-47e7-bd21-bab4896fb026"
      },
      "execution_count": 13,
      "outputs": [
        {
          "output_type": "stream",
          "name": "stdout",
          "text": [
            "HELLO\n"
          ]
        }
      ]
    },
    {
      "cell_type": "code",
      "source": [
        "#Write a code to replace the word \"apple\" with \"orange\" in the string \"I like apple\n",
        "str1 = \"i like apple\"\n",
        "str2= str1.replace(\"apple\",\"orange\")\n",
        "print(str2)"
      ],
      "metadata": {
        "colab": {
          "base_uri": "https://localhost:8080/"
        },
        "id": "De_W8pOPrd5O",
        "outputId": "2f06a634-519d-46ee-92de-34397c566961"
      },
      "execution_count": 15,
      "outputs": [
        {
          "output_type": "stream",
          "name": "stdout",
          "text": [
            "i like orange\n"
          ]
        }
      ]
    },
    {
      "cell_type": "code",
      "source": [
        "# Write a code to create a list with numbers 1 to 5 and print it?\n",
        "number = list(range(1,6))\n",
        "print(number)"
      ],
      "metadata": {
        "colab": {
          "base_uri": "https://localhost:8080/"
        },
        "id": "fXWxPr7OsdbK",
        "outputId": "4ee54c95-cf8e-444a-8880-33490345e8f2"
      },
      "execution_count": 17,
      "outputs": [
        {
          "output_type": "stream",
          "name": "stdout",
          "text": [
            "[1, 2, 3, 4, 5]\n"
          ]
        }
      ]
    },
    {
      "cell_type": "code",
      "source": [
        "#Write a code to append the number 10 to the list [1, 2, 3, 4]?\n",
        "number=[1,2,3,4]\n",
        "number.append(10)\n",
        "print(number)"
      ],
      "metadata": {
        "colab": {
          "base_uri": "https://localhost:8080/"
        },
        "id": "H6slLV-Zs_rs",
        "outputId": "35402da0-c3cd-4701-983e-383e1d97e37d"
      },
      "execution_count": 18,
      "outputs": [
        {
          "output_type": "stream",
          "name": "stdout",
          "text": [
            "[1, 2, 3, 4, 10]\n"
          ]
        }
      ]
    },
    {
      "cell_type": "code",
      "source": [
        "# Write a code to remove the number 3 from the list [1, 2, 3, 4, 5]?\n",
        "number=[1,2,3,4,5]\n",
        "number.remove(3)\n",
        "print(number)"
      ],
      "metadata": {
        "colab": {
          "base_uri": "https://localhost:8080/"
        },
        "id": "sJ5SbzpgtdYm",
        "outputId": "bb0e8ac3-9782-4a5e-94fc-86e08eaf3f23"
      },
      "execution_count": 20,
      "outputs": [
        {
          "output_type": "stream",
          "name": "stdout",
          "text": [
            "[1, 2, 4, 5]\n"
          ]
        }
      ]
    },
    {
      "cell_type": "code",
      "source": [
        "# Write a code to access the second element in the list ['a', 'b', 'c', 'd']?\n",
        "number=['a', 'b', 'c', 'd']\n",
        "print(number[1])"
      ],
      "metadata": {
        "colab": {
          "base_uri": "https://localhost:8080/"
        },
        "id": "ZVB-JN9btuF5",
        "outputId": "0371f908-fa1b-4f00-8eca-0201f95ee721"
      },
      "execution_count": 21,
      "outputs": [
        {
          "output_type": "stream",
          "name": "stdout",
          "text": [
            "b\n"
          ]
        }
      ]
    },
    {
      "cell_type": "code",
      "source": [
        "# Write a code to reverse the list [10, 20, 30, 40, 50]?\n",
        "number=[10, 20, 30, 40, 50]\n",
        "number.reverse()\n",
        "print(number)"
      ],
      "metadata": {
        "colab": {
          "base_uri": "https://localhost:8080/"
        },
        "id": "4jkNIcsMvIXP",
        "outputId": "6275c5f7-9323-4d12-b11a-fbd77029cdec"
      },
      "execution_count": 22,
      "outputs": [
        {
          "output_type": "stream",
          "name": "stdout",
          "text": [
            "[50, 40, 30, 20, 10]\n"
          ]
        }
      ]
    },
    {
      "cell_type": "code",
      "source": [
        "# Write a code to create a tuple with the elements 10, 20, 30 and print it?\n",
        "number=(10,20,30)\n",
        "print(number)"
      ],
      "metadata": {
        "colab": {
          "base_uri": "https://localhost:8080/"
        },
        "id": "1vn6Swhpva-9",
        "outputId": "ae9779c2-10a8-4d49-8563-b110cb8ffa9d"
      },
      "execution_count": 24,
      "outputs": [
        {
          "output_type": "stream",
          "name": "stdout",
          "text": [
            "(10, 20, 30)\n"
          ]
        }
      ]
    },
    {
      "cell_type": "code",
      "source": [
        "# Write a code to access the first element of the tuple ('apple', 'banana', 'cherry')?\n",
        "obj=('apple', 'banana', 'cherry')\n",
        "print(obj[0])"
      ],
      "metadata": {
        "colab": {
          "base_uri": "https://localhost:8080/"
        },
        "id": "x_sHv9hhvxO3",
        "outputId": "13a27d78-3b45-4580-c240-d358f93b5842"
      },
      "execution_count": 25,
      "outputs": [
        {
          "output_type": "stream",
          "name": "stdout",
          "text": [
            "apple\n"
          ]
        }
      ]
    },
    {
      "cell_type": "code",
      "source": [
        "# Write a code to count how many times the number 2 appears in the tuple (1, 2, 3, 2, 4, 2).?\n",
        "number=(1, 2, 3, 2, 4, 2)\n",
        "print(number.count(2))"
      ],
      "metadata": {
        "colab": {
          "base_uri": "https://localhost:8080/"
        },
        "id": "Vkpa3c5bwGsO",
        "outputId": "aa70aaa2-9e80-4696-dcc4-b7d1936a62ec"
      },
      "execution_count": 27,
      "outputs": [
        {
          "output_type": "stream",
          "name": "stdout",
          "text": [
            "3\n"
          ]
        }
      ]
    },
    {
      "cell_type": "code",
      "source": [
        "#Write a code to find the index of the element \"cat\" in the tuple ('dog', 'cat', 'rabbit')?\n",
        "animals=('dog', 'cat', 'rabbit')\n",
        "print(animals.index('cat'))\n"
      ],
      "metadata": {
        "colab": {
          "base_uri": "https://localhost:8080/"
        },
        "id": "xTwAsSUQwfWP",
        "outputId": "d7be2117-91bc-4991-b50b-a782ef0028e3"
      },
      "execution_count": 29,
      "outputs": [
        {
          "output_type": "stream",
          "name": "stdout",
          "text": [
            "1\n"
          ]
        }
      ]
    },
    {
      "cell_type": "code",
      "source": [
        "# Write a code to check if the element \"banana\" is in the tuple ('apple', 'orange', 'banana').\n",
        "fruits=('apple', 'orange', 'banana')\n",
        "if 'banana' in fruits:\n",
        "       print(\"yes\")\n",
        "else:\n",
        "    print('no')\n"
      ],
      "metadata": {
        "colab": {
          "base_uri": "https://localhost:8080/"
        },
        "id": "mB5WdgyAw-6r",
        "outputId": "53592887-1d2a-47de-c5ce-2c6db7c6aa83"
      },
      "execution_count": 30,
      "outputs": [
        {
          "output_type": "stream",
          "name": "stdout",
          "text": [
            "yes\n"
          ]
        }
      ]
    },
    {
      "cell_type": "code",
      "source": [
        "# Write a code to create a set with the elements 1, 2, 3, 4, 5 and print it.\n",
        "number=set(range(0,6))\n",
        "print(number)"
      ],
      "metadata": {
        "colab": {
          "base_uri": "https://localhost:8080/"
        },
        "id": "BpgZLXxWxn9o",
        "outputId": "ce3a1d1e-2d46-496b-a83c-b6471ee0c853"
      },
      "execution_count": 34,
      "outputs": [
        {
          "output_type": "stream",
          "name": "stdout",
          "text": [
            "{0, 1, 2, 3, 4, 5}\n"
          ]
        }
      ]
    },
    {
      "cell_type": "code",
      "source": [
        "#Write a code to add the element 6 to the set {1, 2, 3, 4}\n",
        "numbers={1, 2, 3, 4}\n",
        "numbers.add(6)\n",
        "print(numbers)"
      ],
      "metadata": {
        "colab": {
          "base_uri": "https://localhost:8080/"
        },
        "id": "YAAWKmC2yPjo",
        "outputId": "efb620f8-412e-4563-d3a0-70efeba624be"
      },
      "execution_count": 38,
      "outputs": [
        {
          "output_type": "stream",
          "name": "stdout",
          "text": [
            "{1, 2, 3, 4, 6}\n"
          ]
        }
      ]
    },
    {
      "cell_type": "code",
      "source": [
        "#Write a code to create a tuple with the elements 10, 20, 30 and print it?\n",
        "# Create a tuple with elements 10, 20, 30\n",
        "my_tuple = (10, 20, 30)\n",
        "\n",
        "# Print the tuple\n",
        "print(my_tuple)  # Output: (10, 20, 30)\n"
      ],
      "metadata": {
        "colab": {
          "base_uri": "https://localhost:8080/"
        },
        "id": "9_5re4Rby3EX",
        "outputId": "7777f330-4f07-43e3-aa2a-674474765d20"
      },
      "execution_count": 39,
      "outputs": [
        {
          "output_type": "stream",
          "name": "stdout",
          "text": [
            "(10, 20, 30)\n"
          ]
        }
      ]
    },
    {
      "cell_type": "code",
      "source": [
        "#Write a code to access the first element of the tuple ('apple', 'banana', 'cherry').\n",
        "# Define the tuple\n",
        "fruits = ('apple', 'banana', 'cherry')\n",
        "\n",
        "# Access the first element\n",
        "first_element = fruits[0]\n",
        "\n",
        "# Print the first element\n",
        "print(first_element)  # Output: apple\n"
      ],
      "metadata": {
        "colab": {
          "base_uri": "https://localhost:8080/"
        },
        "id": "rzwR6v8xzE3M",
        "outputId": "d1022226-837b-400c-937f-d2b3729b48fa"
      },
      "execution_count": 40,
      "outputs": [
        {
          "output_type": "stream",
          "name": "stdout",
          "text": [
            "apple\n"
          ]
        }
      ]
    },
    {
      "cell_type": "code",
      "source": [
        "#Write a code to count how many times the number 2 appears in the tuple (1, 2, 3, 2, 4, 2).\n",
        "numbers=(1, 2, 3, 2, 4, 2)\n",
        "print(numbers.count(2))"
      ],
      "metadata": {
        "colab": {
          "base_uri": "https://localhost:8080/"
        },
        "id": "Vl9w1IcNzN4T",
        "outputId": "1e43a884-df8b-4a4f-ec1a-77e61c004dca"
      },
      "execution_count": 44,
      "outputs": [
        {
          "output_type": "stream",
          "name": "stdout",
          "text": [
            "3\n"
          ]
        }
      ]
    },
    {
      "cell_type": "code",
      "source": [
        "# Write a code to find the index of the element \"cat\" in the tuple ('dog', 'cat', 'rabbit').?\n",
        "animals=('dog', 'cat', 'rabbit')\n",
        "print(animals.index('cat'))"
      ],
      "metadata": {
        "colab": {
          "base_uri": "https://localhost:8080/"
        },
        "id": "Fe2WDu90zt4L",
        "outputId": "f2c81814-1e1c-4603-8ac3-93d49ba216cd"
      },
      "execution_count": 46,
      "outputs": [
        {
          "output_type": "stream",
          "name": "stdout",
          "text": [
            "1\n"
          ]
        }
      ]
    },
    {
      "cell_type": "code",
      "source": [
        "# Write a code to check if the element \"banana\" is in the tuple ('apple', 'orange', 'banana').\n",
        "# Define the tuple\n",
        "fruits = ('apple', 'orange', 'banana')\n",
        "\n",
        "# Check if \"banana\" is in the tuple\n",
        "if \"banana\" in fruits:\n",
        "    print(\"Yes, 'banana' is in the tuple!\")\n",
        "else:\n",
        "    print(\"No, 'banana' is not in the tuple.\")\n"
      ],
      "metadata": {
        "colab": {
          "base_uri": "https://localhost:8080/"
        },
        "id": "KWvUU-QX0CPg",
        "outputId": "ac69a6d5-63df-4ea2-a73a-0aff73e98b45"
      },
      "execution_count": 47,
      "outputs": [
        {
          "output_type": "stream",
          "name": "stdout",
          "text": [
            "Yes, 'banana' is in the tuple!\n"
          ]
        }
      ]
    },
    {
      "cell_type": "code",
      "source": [
        "#Write a code to create a set with the elements 1, 2, 3, 4, 5 and print it.\n",
        "# Create a set with elements 1, 2, 3, 4, 5\n",
        "my_set = {1, 2, 3, 4, 5}\n",
        "\n",
        "# Print the set\n",
        "print(my_set)  # Output: {1, 2, 3, 4, 5}\n"
      ],
      "metadata": {
        "colab": {
          "base_uri": "https://localhost:8080/"
        },
        "id": "r6vEfhOQ0M82",
        "outputId": "b02d7398-6040-47e1-8146-6ba98ba378b5"
      },
      "execution_count": 48,
      "outputs": [
        {
          "output_type": "stream",
          "name": "stdout",
          "text": [
            "{1, 2, 3, 4, 5}\n"
          ]
        }
      ]
    },
    {
      "cell_type": "code",
      "source": [
        "#Write a code to add the element 6 to the set {1, 2, 3, 4}.\n",
        "# Create a set\n",
        "my_set = {1, 2, 3, 4}\n",
        "\n",
        "# Add the element 6 to the set\n",
        "my_set.add(6)\n",
        "\n",
        "# Print the updated set\n",
        "print(my_set)  # Output: {1, 2, 3, 4, 6}\n"
      ],
      "metadata": {
        "colab": {
          "base_uri": "https://localhost:8080/"
        },
        "id": "UINZD97o0XYf",
        "outputId": "8359e404-3b79-4ac3-951b-44ac33ac2fe1"
      },
      "execution_count": 49,
      "outputs": [
        {
          "output_type": "stream",
          "name": "stdout",
          "text": [
            "{1, 2, 3, 4, 6}\n"
          ]
        }
      ]
    }
  ]
}